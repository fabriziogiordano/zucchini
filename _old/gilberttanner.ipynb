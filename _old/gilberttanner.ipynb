{
  "nbformat": 4,
  "nbformat_minor": 0,
  "metadata": {
    "colab": {
      "name": "gilberttanner.ipynb",
      "provenance": [],
      "collapsed_sections": []
    },
    "kernelspec": {
      "name": "python3",
      "display_name": "Python 3"
    },
    "accelerator": "GPU"
  },
  "cells": [
    {
      "cell_type": "markdown",
      "metadata": {
        "id": "8QACiPDx0N5r"
      },
      "source": [
        ""
      ]
    },
    {
      "cell_type": "code",
      "metadata": {
        "id": "G0cXGTajza_P"
      },
      "source": [
        "# Install Models\n",
        "import os\n",
        "import pathlib\n",
        "\n",
        "# Clone the tensorflow models repository if it doesn't already exist\n",
        "if \"models\" in pathlib.Path.cwd().parts:\n",
        "  while \"models\" in pathlib.Path.cwd().parts:\n",
        "    os.chdir('..')\n",
        "elif not pathlib.Path('models').exists():\n",
        "  !git clone --depth 1 https://github.com/tensorflow/models\n",
        "  !cd models\n",
        "  !git checkout 8a06433\n",
        "\n",
        "\n",
        "#%%bash\n",
        "#git clone https://github.com/tensorflow/models.git\n",
        "#cd models\n",
        "#git checkout 8a06433"
      ],
      "execution_count": 1,
      "outputs": []
    },
    {
      "cell_type": "code",
      "metadata": {
        "id": "_JduiLV00Yyv"
      },
      "source": [
        "# Install the Object Detection API\n",
        "%%bash\n",
        "cd models/research/\n",
        "protoc object_detection/protos/*.proto --python_out=.\n",
        "cp object_detection/packages/tf2/setup.py .\n",
        "python -m pip install ."
      ],
      "execution_count": null,
      "outputs": []
    },
    {
      "cell_type": "code",
      "metadata": {
        "id": "OnAnKWr40p-q"
      },
      "source": [
        "!python models/research/object_detection/builders/model_builder_tf2_test.py"
      ],
      "execution_count": null,
      "outputs": []
    },
    {
      "cell_type": "code",
      "metadata": {
        "id": "Bp47SaP9J1Cg"
      },
      "source": [
        "%%bash\n",
        "cd models/research/object_detection\n",
        "ls -al"
      ],
      "execution_count": null,
      "outputs": []
    },
    {
      "cell_type": "code",
      "metadata": {
        "id": "bogUXnV6McnQ"
      },
      "source": [
        "!git clone https://github.com/fabriziogiordano/zucchini.git"
      ],
      "execution_count": null,
      "outputs": []
    },
    {
      "cell_type": "code",
      "metadata": {
        "id": "8y6EmWYbMm2Y"
      },
      "source": [
        "%%bash\n",
        "cd /content/\n",
        "ls -al"
      ],
      "execution_count": null,
      "outputs": []
    },
    {
      "cell_type": "code",
      "metadata": {
        "id": "eieb8sLVNA00"
      },
      "source": [
        "%%bash\n",
        "ls models/research/object_detection/images"
      ],
      "execution_count": null,
      "outputs": []
    },
    {
      "cell_type": "code",
      "metadata": {
        "id": "7oPwH5y0Ne92"
      },
      "source": [
        "%%bash\n",
        "mkdir models/research/object_detection/images"
      ],
      "execution_count": null,
      "outputs": []
    },
    {
      "cell_type": "code",
      "metadata": {
        "id": "edPUzg4AWKrL"
      },
      "source": [
        "%%bash\n",
        "cd /content/zucchini/\n",
        "git pull"
      ],
      "execution_count": null,
      "outputs": []
    },
    {
      "cell_type": "code",
      "metadata": {
        "id": "5_bv-pq-NnNX"
      },
      "source": [
        "%%bash\n",
        "#ls zucchini/images/\n",
        "cp zucchini/create_coco_tf_record.py models/research/object_detection/\n",
        "cp zucchini/labelme2coco.py models/research/object_detection/\n",
        "cp zucchini/labelmap.pbtxt models/research/object_detection/\n",
        "cp zucchini/mask_rcnn_inception_resnet_v2_1024x1024_coco17_gpu-8.config models/research/object_detection/\n",
        "cp -r zucchini/images/train models/research/object_detection/images\n",
        "cp -r zucchini/images/test models/research/object_detection/images\n",
        "ls -al models/research/object_detection/"
      ],
      "execution_count": null,
      "outputs": []
    },
    {
      "cell_type": "code",
      "metadata": {
        "id": "HGIw2E4oP5Bi"
      },
      "source": [
        "pip install labelme"
      ],
      "execution_count": null,
      "outputs": []
    },
    {
      "cell_type": "code",
      "metadata": {
        "id": "9vvCZiAiOp3J"
      },
      "source": [
        "%%bash\n",
        "cd models/research/object_detection\n",
        "#ls -al\n",
        "python labelme2coco.py images/train --output images/train.json\n",
        "python labelme2coco.py images/test --output images/test.json\n",
        "ls images -al\n",
        "cat images/train.json"
      ],
      "execution_count": null,
      "outputs": []
    },
    {
      "cell_type": "code",
      "metadata": {
        "id": "iOuDlsykQYtS"
      },
      "source": [
        "%%bash\n",
        "cd models/research/object_detection\n",
        "python create_coco_tf_record.py --logtostderr --train_image_dir=images/train --test_image_dir=images/test --train_annotations_file=images/train.json --test_annotations_file=images/test.json --include_masks=True --output_dir=./\n",
        "#ls -al\n"
      ],
      "execution_count": null,
      "outputs": []
    },
    {
      "cell_type": "code",
      "metadata": {
        "id": "jM8g1azQRa9f"
      },
      "source": [
        "%%bash\n",
        "cd models/research/object_detection\n",
        "ls -al"
      ],
      "execution_count": null,
      "outputs": []
    },
    {
      "cell_type": "code",
      "metadata": {
        "id": "4ex-W8GQXS8R"
      },
      "source": [
        "%%bash\n",
        "cd models/research/object_detection/models\n",
        "# -- wget \"https://github.com/tensorflow/models/blob/master/research/object_detection/configs/tf2/mask_rcnn_inception_resnet_v2_1024x1024_coco17_gpu-8.config\"\n",
        "ls -al"
      ],
      "execution_count": null,
      "outputs": []
    },
    {
      "cell_type": "code",
      "metadata": {
        "id": "_1N3fHOEZtht"
      },
      "source": [
        "%%bash\n",
        "cd /content/\n",
        "rm mask_rcnn_inception_resnet_v2_1024x1024_coco17_gpu-8.tar.gz.1\n",
        "wget --no-verbose \"http://download.tensorflow.org/models/object_detection/tf2/20200711/mask_rcnn_inception_resnet_v2_1024x1024_coco17_gpu-8.tar.gz\"\n",
        "tar -xvf mask_rcnn_inception_resnet_v2_1024x1024_coco17_gpu-8.tar.gz\n",
        "rm mask_rcnn_inception_resnet_v2_1024x1024_coco17_gpu-8.tar.gz\n",
        "ls -al"
      ],
      "execution_count": null,
      "outputs": []
    },
    {
      "cell_type": "code",
      "metadata": {
        "id": "rHeSAlpCbCt2"
      },
      "source": [
        "%%bash\n",
        "cd /content/models/research/object_detection/\n",
        "ls -al"
      ],
      "execution_count": null,
      "outputs": []
    },
    {
      "cell_type": "code",
      "metadata": {
        "id": "po_Iw2_FdDVP"
      },
      "source": [
        "%%bash\n",
        "cd /content/models/research/object_detection/\n",
        "python model_main_tf2.py --pipeline_config_path=mask_rcnn_inception_resnet_v2_1024x1024_coco17_gpu-8.config --model_dir=. --alsologtostderr\n"
      ],
      "execution_count": null,
      "outputs": []
    },
    {
      "cell_type": "code",
      "metadata": {
        "id": "-RgmgIVEeGnS"
      },
      "source": [
        "import tensorflow as tf\n",
        "tf.__version__"
      ],
      "execution_count": null,
      "outputs": []
    }
  ]
}